{
 "cells": [
  {
   "cell_type": "code",
   "execution_count": 1,
   "metadata": {
    "collapsed": true
   },
   "outputs": [],
   "source": [
    "import os\n",
    "import csv\n",
    "import pandas as pd\n"
   ]
  },
  {
   "cell_type": "code",
   "execution_count": 2,
   "metadata": {
    "collapsed": true
   },
   "outputs": [],
   "source": [
    "election_data = os.path.join(\"election_data_1.csv\")"
   ]
  },
  {
   "cell_type": "code",
   "execution_count": 7,
   "metadata": {},
   "outputs": [
    {
     "data": {
      "text/html": [
       "<div>\n",
       "<style>\n",
       "    .dataframe thead tr:only-child th {\n",
       "        text-align: right;\n",
       "    }\n",
       "\n",
       "    .dataframe thead th {\n",
       "        text-align: left;\n",
       "    }\n",
       "\n",
       "    .dataframe tbody tr th {\n",
       "        vertical-align: top;\n",
       "    }\n",
       "</style>\n",
       "<table border=\"1\" class=\"dataframe\">\n",
       "  <thead>\n",
       "    <tr style=\"text-align: right;\">\n",
       "      <th></th>\n",
       "      <th>Voter ID</th>\n",
       "      <th>County</th>\n",
       "      <th>Candidate</th>\n",
       "    </tr>\n",
       "  </thead>\n",
       "  <tbody>\n",
       "    <tr>\n",
       "      <th>0</th>\n",
       "      <td>1405627</td>\n",
       "      <td>Harsaw</td>\n",
       "      <td>Vestal</td>\n",
       "    </tr>\n",
       "    <tr>\n",
       "      <th>1</th>\n",
       "      <td>1711723</td>\n",
       "      <td>Mershville</td>\n",
       "      <td>Vestal</td>\n",
       "    </tr>\n",
       "    <tr>\n",
       "      <th>2</th>\n",
       "      <td>1550639</td>\n",
       "      <td>Matterdawn</td>\n",
       "      <td>Vestal</td>\n",
       "    </tr>\n",
       "    <tr>\n",
       "      <th>3</th>\n",
       "      <td>1042621</td>\n",
       "      <td>Harsaw</td>\n",
       "      <td>Vestal</td>\n",
       "    </tr>\n",
       "    <tr>\n",
       "      <th>4</th>\n",
       "      <td>1583965</td>\n",
       "      <td>Matterdawn</td>\n",
       "      <td>Vestal</td>\n",
       "    </tr>\n",
       "  </tbody>\n",
       "</table>\n",
       "</div>"
      ],
      "text/plain": [
       "   Voter ID      County Candidate\n",
       "0   1405627      Harsaw    Vestal\n",
       "1   1711723  Mershville    Vestal\n",
       "2   1550639  Matterdawn    Vestal\n",
       "3   1042621      Harsaw    Vestal\n",
       "4   1583965  Matterdawn    Vestal"
      ]
     },
     "execution_count": 7,
     "metadata": {},
     "output_type": "execute_result"
    }
   ],
   "source": [
    "csv_path = \"raw_data/election_data_1.csv\"\n",
    "pd.read_csv(csv_path)\n",
    "election_df = pd.read_csv(csv_path)\n",
    "election_df.head()"
   ]
  },
  {
   "cell_type": "code",
   "execution_count": 141,
   "metadata": {},
   "outputs": [
    {
     "data": {
      "text/plain": [
       "803000"
      ]
     },
     "execution_count": 141,
     "metadata": {},
     "output_type": "execute_result"
    }
   ],
   "source": [
    "total_votes = election_df[\"Voter ID\"].count()\n",
    "total_votes"
   ]
  },
  {
   "cell_type": "code",
   "execution_count": 62,
   "metadata": {},
   "outputs": [
    {
     "data": {
      "text/plain": [
       "'Vestal'"
      ]
     },
     "execution_count": 62,
     "metadata": {},
     "output_type": "execute_result"
    }
   ],
   "source": [
    "candidate = election_df[\"Candidate\"].unique()\n",
    "sorted(list(candidate))\n",
    "max_candidate = election_df[\"Candidate\"].max()\n",
    "max_candidate"
   ]
  },
  {
   "cell_type": "code",
   "execution_count": 151,
   "metadata": {},
   "outputs": [
    {
     "data": {
      "text/plain": [
       "Vestal    385440\n",
       "Torres    353320\n",
       "Seth       40150\n",
       "Cordin     24090\n",
       "Name: Candidate, dtype: int64"
      ]
     },
     "execution_count": 151,
     "metadata": {},
     "output_type": "execute_result"
    }
   ],
   "source": [
    "candidate_votes = election_df[\"Candidate\" ].value_counts()\n",
    "candidate_votes\n"
   ]
  },
  {
   "cell_type": "code",
   "execution_count": 94,
   "metadata": {},
   "outputs": [
    {
     "data": {
      "text/plain": [
       "Vestal    48.0%\n",
       "Torres    44.0%\n",
       "Seth       5.0%\n",
       "Cordin     3.0%\n",
       "Name: Candidate, dtype: object"
      ]
     },
     "execution_count": 94,
     "metadata": {},
     "output_type": "execute_result"
    }
   ],
   "source": [
    "percentage_won = ((candidate_votes/total_votes)*100)\n",
    "final_percentages= percentage_won.map(\"{0:,.1f}%\".format)\n",
    "final_percentages"
   ]
  },
  {
   "cell_type": "code",
   "execution_count": 72,
   "metadata": {},
   "outputs": [
    {
     "name": "stdout",
     "output_type": "stream",
     "text": [
      "<pandas.core.groupby.DataFrameGroupBy object at 0x11a003d30>\n"
     ]
    },
    {
     "data": {
      "text/html": [
       "<div>\n",
       "<style>\n",
       "    .dataframe thead tr:only-child th {\n",
       "        text-align: right;\n",
       "    }\n",
       "\n",
       "    .dataframe thead th {\n",
       "        text-align: left;\n",
       "    }\n",
       "\n",
       "    .dataframe tbody tr th {\n",
       "        vertical-align: top;\n",
       "    }\n",
       "</style>\n",
       "<table border=\"1\" class=\"dataframe\">\n",
       "  <thead>\n",
       "    <tr style=\"text-align: right;\">\n",
       "      <th></th>\n",
       "      <th>Voter ID</th>\n",
       "      <th>County</th>\n",
       "    </tr>\n",
       "    <tr>\n",
       "      <th>Candidate</th>\n",
       "      <th></th>\n",
       "      <th></th>\n",
       "    </tr>\n",
       "  </thead>\n",
       "  <tbody>\n",
       "    <tr>\n",
       "      <th>Cordin</th>\n",
       "      <td>24090</td>\n",
       "      <td>24090</td>\n",
       "    </tr>\n",
       "    <tr>\n",
       "      <th>Seth</th>\n",
       "      <td>40150</td>\n",
       "      <td>40150</td>\n",
       "    </tr>\n",
       "    <tr>\n",
       "      <th>Torres</th>\n",
       "      <td>353320</td>\n",
       "      <td>353320</td>\n",
       "    </tr>\n",
       "    <tr>\n",
       "      <th>Vestal</th>\n",
       "      <td>385440</td>\n",
       "      <td>385440</td>\n",
       "    </tr>\n",
       "  </tbody>\n",
       "</table>\n",
       "</div>"
      ],
      "text/plain": [
       "           Voter ID  County\n",
       "Candidate                  \n",
       "Cordin        24090   24090\n",
       "Seth          40150   40150\n",
       "Torres       353320  353320\n",
       "Vestal       385440  385440"
      ]
     },
     "execution_count": 72,
     "metadata": {},
     "output_type": "execute_result"
    }
   ],
   "source": [
    "vote_group = election_df.groupby([\"Candidate\"])\n",
    "print(vote_group)\n",
    "vote_group.count()"
   ]
  },
  {
   "cell_type": "code",
   "execution_count": 189,
   "metadata": {},
   "outputs": [
    {
     "data": {
      "text/plain": [
       "24090"
      ]
     },
     "execution_count": 189,
     "metadata": {},
     "output_type": "execute_result"
    }
   ],
   "source": [
    "candidate_votes[0]\n",
    "candidate_votes[1]\n",
    "candidate_votes[2]\n",
    "candidate_votes[3]\n"
   ]
  },
  {
   "cell_type": "code",
   "execution_count": 195,
   "metadata": {},
   "outputs": [
    {
     "name": "stdout",
     "output_type": "stream",
     "text": [
      "Election Results\n",
      "----------------------\n",
      "Total Votes: 803000\n",
      "----------------------\n",
      "Vestal: 48.0%(385440)\n",
      "Torres: 44.0%(353320)\n",
      "Seth: 5.0%(40150)\n",
      "Cordin: 3.0%(24090)\n",
      "----------------------\n",
      "Winner: Vestal\n",
      "----------------------\n"
     ]
    }
   ],
   "source": [
    "print(\"Election Results\")\n",
    "print(\"----------------------\")\n",
    "print(\"Total Votes: \" + str(total_votes))\n",
    "print(\"----------------------\")\n",
    "print(candidate[0] + \":\" + \" \" + str(final_percentages[0]) + \"(\" + str(candidate_votes[0]) + \")\") \n",
    "print(candidate[1] + \":\" + \" \" + str(final_percentages[1]) + \"(\" + str(candidate_votes[1]) + \")\")\n",
    "print(candidate[2] + \":\" + \" \" + str(final_percentages[2]) + \"(\" + str(candidate_votes[2]) + \")\")\n",
    "print(candidate[3] + \":\" + \" \" + str(final_percentages[3]) + \"(\" + str(candidate_votes[3]) + \")\")\n",
    "print(\"----------------------\")\n",
    "print(\"Winner: \" + str(max_candidate))\n",
    "print(\"----------------------\")\n"
   ]
  },
  {
   "cell_type": "code",
   "execution_count": null,
   "metadata": {
    "collapsed": true
   },
   "outputs": [],
   "source": []
  },
  {
   "cell_type": "code",
   "execution_count": null,
   "metadata": {
    "collapsed": true
   },
   "outputs": [],
   "source": []
  }
 ],
 "metadata": {
  "kernelspec": {
   "display_name": "Python [conda env:PythonData]",
   "language": "python",
   "name": "conda-env-PythonData-py"
  },
  "language_info": {
   "codemirror_mode": {
    "name": "ipython",
    "version": 3
   },
   "file_extension": ".py",
   "mimetype": "text/x-python",
   "name": "python",
   "nbconvert_exporter": "python",
   "pygments_lexer": "ipython3",
   "version": "3.6.3"
  }
 },
 "nbformat": 4,
 "nbformat_minor": 2
}
